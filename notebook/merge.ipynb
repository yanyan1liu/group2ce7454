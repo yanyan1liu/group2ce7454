{
 "cells": [
  {
   "cell_type": "code",
   "execution_count": null,
   "metadata": {},
   "outputs": [],
   "source": [
    "import import_ipynb\n",
    "import keras\n",
    "from keras.utils.np_utils import to_categorical\n",
    "from keras.optimizers import Adam\n",
    "from keras.models import load_model\n",
    "import xml.etree.ElementTree as ET\n",
    "from keras.preprocessing.image import load_img, img_to_array, array_to_img\n",
    "# from keras.utils import multi_gpu_model\n",
    "import pydot\n",
    "import numpy as np\n",
    "from keras.utils import plot_model\n",
    "from IPython.display import SVG\n",
    "from keras.utils.vis_utils import model_to_dot\n",
    "from datetime import datetime\n",
    "import os\n",
    "from settings import setting\n",
    "\n",
    "\n",
    "import net_2 as yolo\n",
    "import Util_V2 as U\n",
    "         \n",
    "# Choosing different decay mechanism\n",
    "if setting['model'] == \"DecayByBatch\":\n",
    "    optimizer = Adam(lr=setting[\"lr\"])\n",
    "    CallBackFun = U.lr_minimum()\n",
    "elif setting['model'] == \"DecayByEpoch\":\n",
    "    optimizer = Adam(lr=setting[\"lr\"])\n",
    "    CallBackFun = U.DecayByEpoch()\n",
    "    \n",
    "# Choosing different loss function\n",
    "if setting['loss'] == 'Loss_v2':\n",
    "    lossFunction = U.Loss_v2\n",
    "elif setting['loss'] == 'Loss_v3':\n",
    "    lossFunction = U.Loss_v3  \n",
    "        \n",
    "model = load_model('model-setting7.h5', custom_objects={setting[\"loss\"]: lossFunction})\n",
    "model.load_weights('weight-setting7.h5')\n",
    "model.save('weight.h5')\n",
    "\n",
    "print(\"finished\")\n"
   ]
  }
 ],
 "metadata": {
  "kernelspec": {
   "display_name": "Python 3",
   "language": "python",
   "name": "python3"
  },
  "language_info": {
   "codemirror_mode": {
    "name": "ipython",
    "version": 3
   },
   "file_extension": ".py",
   "mimetype": "text/x-python",
   "name": "python",
   "nbconvert_exporter": "python",
   "pygments_lexer": "ipython3",
   "version": "3.6.6"
  }
 },
 "nbformat": 4,
 "nbformat_minor": 2
}
